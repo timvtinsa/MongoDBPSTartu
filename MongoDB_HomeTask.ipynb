{
 "cells": [
  {
   "cell_type": "markdown",
   "metadata": {},
   "source": [
    "# Document-Based Stores (MongoDB)"
   ]
  },
  {
   "cell_type": "markdown",
   "metadata": {},
   "source": [
    "### Task 1: Create a simple MongoDB out of this relational model"
   ]
  },
  {
   "cell_type": "markdown",
   "metadata": {},
   "source": [
    "This is  a toy DB about movies and actors who played roles in these movies. This DB is consisted of  \n",
    "\n",
    "- A \"Person\" table who has a unique id, and a name fields.\n",
    "\n",
    "- Another \"Movie\" table that has a unique id, a title, a country where it was made, and a year when it was released.\n",
    "\n",
    "- There is (m-n) or \"many-many\" relationship between these two tables (i.e basically, many actors can act in many movies, and the movie include many actors)\n",
    "- Therefore, we use the \"Roles\" table in which we can deduct which person has acted in which movie, and what role(s) they played.\n",
    "\n",
    "<img src=\"RDBSchema.png\" alt=\"3\" border=\"0\">"
   ]
  },
  {
   "cell_type": "markdown",
   "metadata": {},
   "source": [
    "#### Connect to the MongoDB server, and create a mongoDB with the name 'moviedb'"
   ]
  },
  {
   "cell_type": "code",
   "execution_count": 1,
   "metadata": {},
   "outputs": [],
   "source": [
    "from pymongo import MongoClient\n",
    "from random import randint\n",
    "from pprint import pprint\n",
    "\n",
    "import warnings\n",
    "warnings.filterwarnings('ignore')\n",
    "\n",
    "#we use the MongoClient to communicate with the running database instance.\n",
    "myclient = MongoClient(\"mongodb://mongo:27017/\") #Mongo URI format\n",
    "mydb = myclient[\"moviedb\"]"
   ]
  },
  {
   "cell_type": "markdown",
   "metadata": {},
   "source": [
    "#### Create Person/Actor collection"
   ]
  },
  {
   "cell_type": "code",
   "execution_count": 2,
   "metadata": {},
   "outputs": [],
   "source": [
    "person_coll = mydb[\"Person\"]"
   ]
  },
  {
   "cell_type": "markdown",
   "metadata": {},
   "source": [
    "#### Insert the data into the Person Table"
   ]
  },
  {
   "cell_type": "code",
   "execution_count": 3,
   "metadata": {},
   "outputs": [
    {
     "name": "stdout",
     "output_type": "stream",
     "text": [
      "[ObjectId('638864009f6adeba1b49b349'), ObjectId('638864009f6adeba1b49b34a'), ObjectId('638864009f6adeba1b49b34b'), ObjectId('638864009f6adeba1b49b34c')]\n"
     ]
    }
   ],
   "source": [
    "personList = [\n",
    "  { \"id\": 1, \"name\": \"Charlie Sheen\" },\n",
    "  { \"id\": 2, \"name\": \"Michael Douglas\"},\n",
    "  { \"id\": 3, \"name\": \"Martin Sheen\"},\n",
    "  { \"id\": 4, \"name\": \"Morgan Freeman\"}\n",
    "]\n",
    "\n",
    "persons = person_coll.insert_many(personList)\n",
    "\n",
    "#print list of the _id values of the inserted documents:\n",
    "print(persons.inserted_ids)"
   ]
  },
  {
   "cell_type": "markdown",
   "metadata": {},
   "source": [
    "#### Creating rest of Collections (\"Movies\", \"Roles\")"
   ]
  },
  {
   "cell_type": "code",
   "execution_count": 4,
   "metadata": {},
   "outputs": [],
   "source": [
    "restcols = [\"Movies\",\"Roles\"]\n",
    "\n",
    "for col in restcols:\n",
    "    mydb[col]"
   ]
  },
  {
   "cell_type": "markdown",
   "metadata": {},
   "source": [
    "#### Inserting data into the movie Collection"
   ]
  },
  {
   "cell_type": "code",
   "execution_count": 5,
   "metadata": {},
   "outputs": [
    {
     "name": "stdout",
     "output_type": "stream",
     "text": [
      "[ObjectId('6388642d9f6adeba1b49b34d'), ObjectId('6388642d9f6adeba1b49b34e'), ObjectId('6388642d9f6adeba1b49b34f')]\n"
     ]
    }
   ],
   "source": [
    "movies_coll = mydb[\"Movies\"]\n",
    "\n",
    "movieList = [\n",
    "  { \"id\": 1, \"title\": \"Wall Street\", \"country\":\"USA\",\"year\":1987},\n",
    "  { \"id\": 2, \"title\": \"The American President\", \"country\":\"USA\",\"year\":1995},\n",
    "  { \"id\": 3, \"title\": \"The Shawshank Redemption\", \"country\":\"USA\",\"year\":1994},\n",
    "]\n",
    "\n",
    "movies = movies_coll.insert_many(movieList)\n",
    "\n",
    "#print list of the _id values of the inserted documents:\n",
    "print(movies.inserted_ids)"
   ]
  },
  {
   "cell_type": "markdown",
   "metadata": {},
   "source": [
    "#### Inserting data into the roles Collection"
   ]
  },
  {
   "cell_type": "code",
   "execution_count": 6,
   "metadata": {},
   "outputs": [
    {
     "name": "stdout",
     "output_type": "stream",
     "text": [
      "[ObjectId('6388643d9f6adeba1b49b350'), ObjectId('6388643d9f6adeba1b49b351'), ObjectId('6388643d9f6adeba1b49b352'), ObjectId('6388643d9f6adeba1b49b353'), ObjectId('6388643d9f6adeba1b49b354'), ObjectId('6388643d9f6adeba1b49b355')]\n"
     ]
    }
   ],
   "source": [
    "roles_coll = mydb[\"Roles\"]\n",
    "\n",
    "roleList = [\n",
    "  { \"personId\": 1, \"movieId\": 1, \"role\":[\"Bud Fox\"]},\n",
    "  { \"personId\": 2, \"movieId\": 1, \"role\":[\"Carl Fox\"]},\n",
    "  { \"personId\": 3, \"movieId\": 1, \"role\":[\"Gordon Gekko\"]},\n",
    "  { \"personId\": 2, \"movieId\": 2, \"role\":[\"A.J. MacInerney\"]},\n",
    "  { \"personId\": 3, \"movieId\": 2, \"role\":[\"President Andrew Shepherd\"]},\n",
    "  { \"personId\": 4, \"movieId\": 3, \"role\":[\"Ellis Boyd 'Red' Redding\"]}\n",
    "]\n",
    "\n",
    "roles = roles_coll.insert_many(roleList)\n",
    "\n",
    "#print list of the _id values of the inserted documents:\n",
    "print(roles.inserted_ids)"
   ]
  },
  {
   "cell_type": "markdown",
   "metadata": {},
   "source": [
    "### <font color ='green'>Just for your info</font>:\n",
    "\n",
    "#### Another Way of Modeling this M-N model in Mongo would be using the Foreign Keys \n",
    "\n",
    "\n",
    "* Movies\n",
    "\n",
    "\n",
    "```[\n",
    "\n",
    "{\n",
    "\t\"_id\": 1,\n",
    "\t\"title\":\"Wall Street\",\n",
    "\t\"country\":\"USA\",\n",
    "\t\"year\":1987,\n",
    "\t\"persons\":[1,2]\n",
    "},\n",
    "\n",
    "{\n",
    "\t\"_id\": 2,\n",
    "\t\"title\":\"The American President\",\n",
    "\t\"country\":\"USA\",\n",
    "\t\"year\":1995,\n",
    "\t\"persons\":[2]\n",
    "}]\n",
    "```\n",
    "* Actors\n",
    "\n",
    "```\n",
    "[{\n",
    "    \"_id\": 1,\n",
    "    \"name\": \"Charlie Sheen\",\n",
    "    \"movies\":[\n",
    "    {\"role\": \"Bud Fox\", \"movie_id\":1}\n",
    "    ]\n",
    "},\n",
    "\n",
    "{\n",
    "    \"_id\": 2,\n",
    "    \"name\": \"Micheal Douglas\",\n",
    "    \"movies\":[\n",
    "    {\"role\": \"Gordon Geko\", \"movie_id\":1},\n",
    "    {\"role\": \"President Andrew Shepherd\", \"movie_id\":2}\n",
    "    ]\n",
    "}\n",
    "\n",
    "] ```\n"
   ]
  },
  {
   "cell_type": "markdown",
   "metadata": {},
   "source": [
    "#### Get all actors in your Mongo DB"
   ]
  },
  {
   "cell_type": "code",
   "execution_count": 7,
   "metadata": {},
   "outputs": [
    {
     "name": "stdout",
     "output_type": "stream",
     "text": [
      "{'_id': ObjectId('638864009f6adeba1b49b349'), 'id': 1, 'name': 'Charlie Sheen'}\n",
      "{'_id': ObjectId('638864009f6adeba1b49b34a'), 'id': 2, 'name': 'Michael Douglas'}\n",
      "{'_id': ObjectId('638864009f6adeba1b49b34b'), 'id': 3, 'name': 'Martin Sheen'}\n",
      "{'_id': ObjectId('638864009f6adeba1b49b34c'), 'id': 4, 'name': 'Morgan Freeman'}\n"
     ]
    }
   ],
   "source": [
    "allPersons = mydb.Person.find({}) #we can ignore the empty '{}' doc.\n",
    "for person in allPersons:\n",
    "    print(person)"
   ]
  },
  {
   "cell_type": "markdown",
   "metadata": {},
   "source": [
    "#### Get actors with names start with 'C' letter"
   ]
  },
  {
   "cell_type": "code",
   "execution_count": 8,
   "metadata": {},
   "outputs": [
    {
     "name": "stdout",
     "output_type": "stream",
     "text": [
      "{'_id': ObjectId('6387e90c5c90eb67ccec4e1f'), 'id': 1, 'name': 'Charlie Sheen'}\n"
     ]
    }
   ],
   "source": [
    "actors = mydb.Person.find({\"name\": {\"$regex\": \"^C.*\"}})\n",
    "for actor in actors:\n",
    "    print(actor)"
   ]
  },
  {
   "cell_type": "markdown",
   "metadata": {},
   "source": [
    "#### Get all Movies sorted from recent to old! (get only the title and year fields)"
   ]
  },
  {
   "cell_type": "code",
   "execution_count": 9,
   "metadata": {},
   "outputs": [
    {
     "name": "stdout",
     "output_type": "stream",
     "text": [
      "{'title': 'The American President', 'year': 1995}\n",
      "{'title': 'The Shawshank Redemption', 'year': 1994}\n",
      "{'title': 'Wall Street', 'year': 1987}\n"
     ]
    }
   ],
   "source": [
    "movies_sorted=mydb.Movies.find({}, {\n",
    "    \"title\": 1,\n",
    "    \"year\": 1,\n",
    "    \"_id\": 0\n",
    "}).sort([(\"year\",-1)])\n",
    "for movie in movies_sorted:\n",
    "    print(movie)"
   ]
  },
  {
   "cell_type": "markdown",
   "metadata": {},
   "source": [
    "#### Get all Movies released in the 90s (after year (1990) and before 2000) ordered from old to recent."
   ]
  },
  {
   "cell_type": "code",
   "execution_count": 10,
   "metadata": {},
   "outputs": [
    {
     "name": "stdout",
     "output_type": "stream",
     "text": [
      "{'_id': ObjectId('6387e9275c90eb67ccec4e25'), 'id': 3, 'title': 'The Shawshank Redemption', 'country': 'USA', 'year': 1994}\n",
      "{'_id': ObjectId('6387e9275c90eb67ccec4e24'), 'id': 2, 'title': 'The American President', 'country': 'USA', 'year': 1995}\n"
     ]
    }
   ],
   "source": [
    "movies = mydb.Movies.find({\"$and\": [{\"year\": {\"$gt\":1990}}, {\"year\": {\"$lt\":2000}}]}).sort([(\"year\",1)])\n",
    "\n",
    "for movie in movies:\n",
    "    print(movie)"
   ]
  },
  {
   "cell_type": "markdown",
   "metadata": {},
   "source": [
    "#### Get Movies and Actors from your \"movies\" DB\n",
    "* Hint : use the <code>'$lookup'</code> operator.\n",
    "* The Result should be something like the following:\n",
    "<code>\n",
    "Charlie Sheen : Wall Street\n",
    "Michael Douglas : Wall Street\n",
    "Martin Sheen : Wall Street\n",
    "Michael Douglas : The American President\n",
    "Martin Sheen : The American President\n",
    "Morgan Freeman : The Shawshank Redemption\n",
    "</code>"
   ]
  },
  {
   "cell_type": "code",
   "execution_count": 11,
   "metadata": {},
   "outputs": [
    {
     "name": "stdout",
     "output_type": "stream",
     "text": [
      "Charlie Sheen: Wall Street\n",
      "Michael Douglas: Wall Street\n",
      "Martin Sheen: Wall Street\n",
      "Michael Douglas: The American President\n",
      "Martin Sheen: The American President\n",
      "Morgan Freeman: The Shawshank Redemption\n"
     ]
    }
   ],
   "source": [
    "results = mydb.Roles.aggregate([\n",
    "    {\n",
    "        \"$lookup\": {\n",
    "           \"from\": \"Person\",\n",
    "           \"localField\": \"personId\",\n",
    "           \"foreignField\": \"id\",\n",
    "           \"as\": \"person\"\n",
    "        }\n",
    "    },\n",
    "    {\n",
    "       \"$lookup\": {\n",
    "           \"from\": \"Movies\",\n",
    "           \"localField\": \"movieId\",\n",
    "           \"foreignField\": \"id\",\n",
    "           \"as\": \"movie\"\n",
    "        }\n",
    "    },\n",
    "    {\n",
    "        \"$project\": { \n",
    "            \"person.name\": 1,\n",
    "            \"movie.title\": 1,\n",
    "            \"_id\": 0\n",
    "        }\n",
    "    }\n",
    "])\n",
    "for result in results:\n",
    "    print(result[\"person\"][0][\"name\"] + \": \" + result[\"movie\"][0][\"title\"])"
   ]
  },
  {
   "cell_type": "markdown",
   "metadata": {},
   "source": [
    "#### For each Actor, get count of \"Movies\" he acted in."
   ]
  },
  {
   "cell_type": "code",
   "execution_count": 13,
   "metadata": {},
   "outputs": [
    {
     "name": "stdout",
     "output_type": "stream",
     "text": [
      "{'_id': 1, 'count': 1}\n",
      "{'_id': 2, 'count': 2}\n",
      "{'_id': 3, 'count': 2}\n",
      "{'_id': 4, 'count': 1}\n"
     ]
    }
   ],
   "source": [
    "agg_result = mydb.Roles.aggregate([\n",
    "    {  \n",
    "        \"$group\": {\n",
    "            \"_id\": \"$personId\",\n",
    "            \"count\": {\"$sum\": 1 }\n",
    "        }\n",
    "    },\n",
    "    {\n",
    "        \"$sort\": {\n",
    "            \"_id\": 1\n",
    "        }\n",
    "    }\n",
    "])\n",
    "\n",
    "for movie_count in agg_result:\n",
    "    print(movie_count)"
   ]
  },
  {
   "cell_type": "code",
   "execution_count": 14,
   "metadata": {},
   "outputs": [
    {
     "name": "stdout",
     "output_type": "stream",
     "text": [
      "Charlie Sheen: 1\n",
      "Michael Douglas: 2\n",
      "Martin Sheen: 2\n",
      "Morgan Freeman: 1\n"
     ]
    }
   ],
   "source": [
    "agg_result = mydb.Roles.aggregate([\n",
    "    {  \n",
    "        \"$group\": {\n",
    "            \"_id\": \"$personId\",\n",
    "            \"count\": {\"$sum\": 1 }\n",
    "        }\n",
    "    },\n",
    "    {\n",
    "        \"$sort\": {\n",
    "            \"_id\": 1\n",
    "        }\n",
    "    },\n",
    "    {\n",
    "        \"$lookup\": {\n",
    "           \"from\": \"Person\",\n",
    "           \"localField\": \"_id\",\n",
    "           \"foreignField\": \"id\",\n",
    "           \"as\": \"person\"\n",
    "        }\n",
    "    },\n",
    "    {\n",
    "        \"$project\": { \n",
    "            \"person.name\": 1,\n",
    "            \"count\": 1\n",
    "        }\n",
    "    }\n",
    "])\n",
    "\n",
    "for movie_count in agg_result:\n",
    "    print(movie_count[\"person\"][0][\"name\"] + \": \" + str(movie_count[\"count\"]))"
   ]
  },
  {
   "cell_type": "markdown",
   "metadata": {},
   "source": [
    "#### In your DB, list the movies that every Actor played"
   ]
  },
  {
   "cell_type": "code",
   "execution_count": 15,
   "metadata": {},
   "outputs": [
    {
     "name": "stdout",
     "output_type": "stream",
     "text": [
      "{'actorName': ['Charlie Sheen'], 'movies': [['Wall Street']]}\n",
      "{'actorName': ['Michael Douglas'], 'movies': [['Wall Street'], ['The American President']]}\n",
      "{'actorName': ['Martin Sheen'], 'movies': [['Wall Street'], ['The American President']]}\n",
      "{'actorName': ['Morgan Freeman'], 'movies': [['The Shawshank Redemption']]}\n"
     ]
    }
   ],
   "source": [
    "agg_result = mydb.Roles.aggregate([\n",
    "    {\n",
    "        \"$lookup\": {\n",
    "           \"from\": \"Person\",\n",
    "           \"localField\": \"personId\",\n",
    "           \"foreignField\": \"id\",\n",
    "           \"as\": \"person\"\n",
    "         }\n",
    "    },\n",
    "    {\n",
    "       \"$lookup\":\n",
    "         {\n",
    "           \"from\": \"Movies\",\n",
    "           \"localField\": \"movieId\",\n",
    "           \"foreignField\": \"id\",\n",
    "           \"as\": \"movie\"\n",
    "         }\n",
    "    },\n",
    "    {  \n",
    "        \"$group\": {\n",
    "            \"_id\": \"$personId\",\n",
    "            \"actorName\" : { \"$first\": '$person.name' },\n",
    "            \"movies\": { \"$push\": \"$movie.title\" }\n",
    "        }\n",
    "    },\n",
    "    {\n",
    "        \"$project\": { \n",
    "            \"actorName\": 1,\n",
    "            \"movies\": 1,\n",
    "            \"_id\": 0\n",
    "        }\n",
    "    }\n",
    "])\n",
    "\n",
    "for actor_movie in agg_result:\n",
    "    print(actor_movie)"
   ]
  },
  {
   "cell_type": "markdown",
   "metadata": {},
   "source": [
    "#### Get the Persons/Actors who acted in \"Wall Street\" movie\n",
    "- Hint use `$lookup` , `$match` operators in the aggregation piepeline"
   ]
  },
  {
   "cell_type": "code",
   "execution_count": 15,
   "metadata": {},
   "outputs": [
    {
     "name": "stdout",
     "output_type": "stream",
     "text": [
      "Charlie Sheen\n",
      "Michael Douglas\n",
      "Martin Sheen\n"
     ]
    }
   ],
   "source": [
    "agg_result = mydb.Roles.aggregate([\n",
    "    {\n",
    "        \"$lookup\": {\n",
    "           \"from\": \"Person\",\n",
    "           \"localField\": \"personId\",\n",
    "           \"foreignField\": \"id\",\n",
    "           \"as\": \"person\"\n",
    "        }\n",
    "    },\n",
    "    {\n",
    "       \"$lookup\": {\n",
    "           \"from\": \"Movies\",\n",
    "           \"localField\": \"movieId\",\n",
    "           \"foreignField\": \"id\",\n",
    "           \"as\": \"movie\"\n",
    "        }\n",
    "    },\n",
    "    {  \n",
    "        \"$match\": {\n",
    "            \"movie.title\": \"Wall Street\",\n",
    "        }\n",
    "    },\n",
    "    {\n",
    "        \"$project\": { \n",
    "            \"person.name\": 1,\n",
    "            \"_id\": 0\n",
    "        }\n",
    "    }\n",
    "])\n",
    "\n",
    "for actor in agg_result:\n",
    "    print(actor[\"person\"][0][\"name\"])"
   ]
  },
  {
   "cell_type": "markdown",
   "metadata": {},
   "source": [
    "#### Get the Movies in which \"Michael Douglas\" has played a role in"
   ]
  },
  {
   "cell_type": "code",
   "execution_count": 16,
   "metadata": {},
   "outputs": [
    {
     "name": "stdout",
     "output_type": "stream",
     "text": [
      "Wall Street\n",
      "The American President\n"
     ]
    }
   ],
   "source": [
    "agg_result = mydb.Roles.aggregate([\n",
    "    {\n",
    "        \"$lookup\":\n",
    "         {\n",
    "           \"from\": \"Person\",\n",
    "           \"localField\": \"personId\",\n",
    "           \"foreignField\": \"id\",\n",
    "           \"as\": \"person\"\n",
    "         }\n",
    "    },\n",
    "    {  \n",
    "        \"$match\": {\n",
    "            \"person.name\": \"Michael Douglas\",\n",
    "        }\n",
    "    },\n",
    "    {\n",
    "       \"$lookup\":\n",
    "         {\n",
    "           \"from\": \"Movies\",\n",
    "           \"localField\": \"movieId\",\n",
    "           \"foreignField\": \"id\",\n",
    "           \"as\": \"movie\"\n",
    "         }\n",
    "    },\n",
    "    {\n",
    "        \"$project\": { \"movie.title\": 1, \"_id\": 0 }\n",
    "    }\n",
    "])\n",
    "\n",
    "for movie in agg_result:\n",
    "    print(movie[\"movie\"][0][\"title\"])"
   ]
  },
  {
   "cell_type": "markdown",
   "metadata": {},
   "source": [
    "#### Get count of \"Movies\" in your DB"
   ]
  },
  {
   "cell_type": "code",
   "execution_count": 16,
   "metadata": {},
   "outputs": [
    {
     "data": {
      "text/plain": [
       "3"
      ]
     },
     "execution_count": 16,
     "metadata": {},
     "output_type": "execute_result"
    }
   ],
   "source": [
    "mydb.Movies.count_documents({})"
   ]
  },
  {
   "cell_type": "markdown",
   "metadata": {},
   "source": [
    "#### update the year of the 'Wall Street' movie was released in to be 2000(which is not true BTW :)\n",
    "- Show that movie before and After updating it"
   ]
  },
  {
   "cell_type": "code",
   "execution_count": 17,
   "metadata": {},
   "outputs": [
    {
     "data": {
      "text/plain": [
       "<pymongo.results.UpdateResult at 0x7fb6127bdde0>"
      ]
     },
     "execution_count": 17,
     "metadata": {},
     "output_type": "execute_result"
    }
   ],
   "source": [
    "mydb.Movies.update_one({\"title\":\"Wall Street\"},{\"$set\": {\"year\":2000}  })"
   ]
  },
  {
   "cell_type": "markdown",
   "metadata": {},
   "source": [
    "####  Delete all the persons with names start with 'M' letter."
   ]
  },
  {
   "cell_type": "code",
   "execution_count": 21,
   "metadata": {},
   "outputs": [
    {
     "data": {
      "text/plain": [
       "<pymongo.results.DeleteResult at 0x7f435290ea70>"
      ]
     },
     "execution_count": 21,
     "metadata": {},
     "output_type": "execute_result"
    }
   ],
   "source": [
    "mydb.Person.delete_many({\"name\": {\"$regex\": \"^M.*\"}})"
   ]
  },
  {
   "cell_type": "markdown",
   "metadata": {},
   "source": [
    "### Task 2: Extend your Mongo-\"MovieDB\" \n",
    "\n",
    "Imagine now that we are going to extend our DB with new movies, actors, even with new directors.\n",
    "\n",
    "- We add <b>**\"The matrix\"**</b> movie which was released in <b> USA, (1999)</b>, and has a new property/field \"Tagline\" <b>(\"Welcome to the Real World\")</b>.\n",
    " \n",
    "- We will also add 4 new actors (Person):\n",
    "    - **\"Keanu Reeves\"** who was born in (1964). <font color='green'>Note:</font> \"born\" property is also new.\n",
    "    - **\"Carrie-Anne Moss\"** who was born in (1967).\n",
    "    - **\"Laurence Fishburne\"** who was born in (1960).\n",
    "    - **\"Hugo Weaving\"** who was born in (1960).\n",
    "    \n",
    "- Moreover, we add 2 directors (Person) :\n",
    "    - **\"Lilly Wachowski\"**, born in (1967)\n",
    "    - **\"Lana Wachowski\"**, born in(1965)\n",
    "- For these directors specify one more label/field as (\"Director\"). (You can add this while inserting the director documents)\n",
    "    \n",
    " \n",
    "- We will also create a new <b>collection \"Directed\" </b> that is directed from the later 2 directors to \"the Matrix\" movie."
   ]
  },
  {
   "cell_type": "markdown",
   "metadata": {},
   "source": [
    "#### Add the Movie \"The Matrix\" with the provided data to the Movies collection"
   ]
  },
  {
   "cell_type": "code",
   "execution_count": 18,
   "metadata": {},
   "outputs": [],
   "source": [
    "new_movie = mydb.Movies.insert_one({\n",
    "    \"id\": 4,\n",
    "    \"title\": \"The Matrix\",\n",
    "    \"country\": \"USA\",\n",
    "    \"year\": 1999,\n",
    "    \"tagline\": \"Welcome to the Real World\"\n",
    "})"
   ]
  },
  {
   "cell_type": "markdown",
   "metadata": {},
   "source": [
    "#### Insert the new 4 actors to the person collection"
   ]
  },
  {
   "cell_type": "code",
   "execution_count": 19,
   "metadata": {},
   "outputs": [
    {
     "name": "stdout",
     "output_type": "stream",
     "text": [
      "[ObjectId('63886ec79f6adeba1b49b357'), ObjectId('63886ec79f6adeba1b49b358'), ObjectId('63886ec79f6adeba1b49b359'), ObjectId('63886ec79f6adeba1b49b35a')]\n"
     ]
    }
   ],
   "source": [
    "#Notice, How is easy to add a new feild compared to the RDB\n",
    "newActorList = [\n",
    "  { \"id\": 5, \"name\": \"Keanu Reeves\", \"born\":1964 },\n",
    "  { \"id\": 6, \"name\": \"Carrie-Anne Moss\", \"born\":1967},\n",
    "  { \"id\": 7, \"name\": \"Laurence Fishburne\", \"born\":1960},\n",
    "  { \"id\": 8, \"name\": \"Hugo Weaving\", \"born\":1960}\n",
    "]\n",
    "\n",
    "newActors = person_coll.insert_many(newActorList)\n",
    "\n",
    "#print list of the _id values of the inserted documents:\n",
    "print(newActors.inserted_ids)"
   ]
  },
  {
   "cell_type": "markdown",
   "metadata": {},
   "source": [
    "#### Insert the new 2 directors to the person collection"
   ]
  },
  {
   "cell_type": "code",
   "execution_count": 20,
   "metadata": {},
   "outputs": [
    {
     "name": "stdout",
     "output_type": "stream",
     "text": [
      "[ObjectId('63886ed29f6adeba1b49b35b'), ObjectId('63886ed29f6adeba1b49b35c')]\n"
     ]
    }
   ],
   "source": [
    "#Notice, How is easy to add a new feild compared to the RDB\n",
    "newDirectorList = [\n",
    "  { \"id\": 9, \"name\": \"Lilly Wachowski\", \"born\":1967, \"label\": \"Director\" },\n",
    "  { \"id\": 10, \"name\": \"Lana Wachowski\", \"born\":1965, \"label\": \"Director\" },\n",
    "]\n",
    "\n",
    "newDirectors = person_coll.insert_many(newDirectorList)\n",
    "\n",
    "#print list of the _id values of the inserted documents:\n",
    "print(newDirectors.inserted_ids)"
   ]
  },
  {
   "cell_type": "markdown",
   "metadata": {},
   "source": [
    "#### Create the \"Directed\" collection, and insert the data into it "
   ]
  },
  {
   "cell_type": "code",
   "execution_count": 21,
   "metadata": {},
   "outputs": [
    {
     "name": "stdout",
     "output_type": "stream",
     "text": [
      "[ObjectId('63886ef69f6adeba1b49b35d'), ObjectId('63886ef69f6adeba1b49b35e')]\n"
     ]
    }
   ],
   "source": [
    "directed_coll = mydb[\"Directed\"]\n",
    "\n",
    "newDirectedItemsList = [\n",
    "  { \"id\": 1, \"directorId\": 9, \"movieId\":4 },\n",
    "  { \"id\": 2, \"directorId\": 10, \"movieId\":4 },\n",
    "]\n",
    "\n",
    "newDirectedItems = directed_coll.insert_many(newDirectedItemsList)\n",
    "\n",
    "#print list of the _id values of the inserted documents:\n",
    "print(newDirectedItems.inserted_ids)"
   ]
  },
  {
   "cell_type": "markdown",
   "metadata": {},
   "source": [
    "#### Get only the directors from the person collection (i.e. persons marked with the label \"Director\")"
   ]
  },
  {
   "cell_type": "code",
   "execution_count": 22,
   "metadata": {},
   "outputs": [
    {
     "name": "stdout",
     "output_type": "stream",
     "text": [
      "{'_id': ObjectId('63886ed29f6adeba1b49b35b'), 'id': 9, 'name': 'Lilly Wachowski', 'born': 1967, 'label': 'Director'}\n",
      "{'_id': ObjectId('63886ed29f6adeba1b49b35c'), 'id': 10, 'name': 'Lana Wachowski', 'born': 1965, 'label': 'Director'}\n"
     ]
    }
   ],
   "source": [
    "directorsList = mydb.Person.find({\"label\": \"Director\"})\n",
    "\n",
    "for director in directorsList:\n",
    "    print(director)"
   ]
  },
  {
   "cell_type": "markdown",
   "metadata": {},
   "source": [
    "#### Perform a query that get persons (names, and born year) who Directed \"The Matrix\" movie."
   ]
  },
  {
   "cell_type": "code",
   "execution_count": 23,
   "metadata": {},
   "outputs": [
    {
     "name": "stdout",
     "output_type": "stream",
     "text": [
      "{'person': [{'name': 'Lilly Wachowski', 'born': 1967}]}\n",
      "{'person': [{'name': 'Lana Wachowski', 'born': 1965}]}\n"
     ]
    }
   ],
   "source": [
    "agg_result = mydb.Directed.aggregate([\n",
    "    {\n",
    "       \"$lookup\":\n",
    "         {\n",
    "           \"from\": \"Movies\",\n",
    "           \"localField\": \"movieId\",\n",
    "           \"foreignField\": \"id\",\n",
    "           \"as\": \"movie\"\n",
    "         }\n",
    "    },\n",
    "    {  \n",
    "        \"$match\": {\n",
    "            \"movie.title\": \"The Matrix\",\n",
    "        }\n",
    "    },\n",
    "        {\n",
    "        \"$lookup\":\n",
    "         {\n",
    "           \"from\": \"Person\",\n",
    "           \"localField\": \"directorId\",\n",
    "           \"foreignField\": \"id\",\n",
    "           \"as\": \"person\"\n",
    "         }\n",
    "    },\n",
    "    {\n",
    "        \"$project\": { \"person.name\": 1, \"person.born\": 1, \"_id\": 0 }\n",
    "    }\n",
    "])\n",
    "\n",
    "for result in agg_result:\n",
    "    print(result)"
   ]
  },
  {
   "cell_type": "markdown",
   "metadata": {},
   "source": [
    "**<center> <font color='red'>THANK YOU FOR YOUR EFFORT!</font></center>**"
   ]
  }
 ],
 "metadata": {
  "kernelspec": {
   "display_name": "Python 3 (ipykernel)",
   "language": "python",
   "name": "python3"
  },
  "language_info": {
   "codemirror_mode": {
    "name": "ipython",
    "version": 3
   },
   "file_extension": ".py",
   "mimetype": "text/x-python",
   "name": "python",
   "nbconvert_exporter": "python",
   "pygments_lexer": "ipython3",
   "version": "3.10.6"
  }
 },
 "nbformat": 4,
 "nbformat_minor": 2
}
